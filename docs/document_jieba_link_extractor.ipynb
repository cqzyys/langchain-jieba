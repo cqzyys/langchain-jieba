{
 "cells": [
  {
   "cell_type": "markdown",
   "metadata": {},
   "source": [
    "---\n",
    "Jieba link extractor\n",
    "---"
   ]
  },
  {
   "cell_type": "markdown",
   "metadata": {},
   "source": [
    "## Description\n",
    "langchain_community.graph_vectorstores support storing texts and their relationships in a vector database in the form of a knowledge graph.But the\n",
    "recommended extractor such as `KeybertLinkExtractor` works better in an English environment,while it performs poorly in a Chinese environment.\n",
    "`JiebaLinkExtractor` extract keywords from texts depend on `jieba.analyse` lib, which more suitable in a Chinese environment.\n"
   ]
  },
  {
   "cell_type": "markdown",
   "metadata": {},
   "source": [
    "## Installation"
   ]
  },
  {
   "cell_type": "code",
   "execution_count": null,
   "metadata": {},
   "outputs": [],
   "source": [
    "%pip install langchain_jieba"
   ]
  },
  {
   "cell_type": "markdown",
   "metadata": {},
   "source": [
    "## Usage"
   ]
  },
  {
   "cell_type": "code",
   "execution_count": 4,
   "metadata": {},
   "outputs": [
    {
     "name": "stdout",
     "output_type": "stream",
     "text": [
      "results={Link(kind='kw', direction='bidir', tag='日本京都大学'), Link(kind='kw', direction='bidir', tag='计算所'), Link(kind='kw', direction='bidir', tag='小明')}\n"
     ]
    }
   ],
   "source": [
    "from langchain_jieba import JiebaLinkExtractor\n",
    "\n",
    "extractor = JiebaLinkExtractor()\n",
    "results = extractor.extract_one(\"小明硕士毕业于中国科学院计算所，后在日本京都大学深造\")\n",
    "print(f\"results={results}\")"
   ]
  },
  {
   "cell_type": "code",
   "execution_count": 3,
   "metadata": {},
   "outputs": [
    {
     "name": "stdout",
     "output_type": "stream",
     "text": [
      "results[0]={Link(kind='kw', direction='bidir', tag='日本京都大学'), Link(kind='kw', direction='bidir', tag='计算所'), Link(kind='kw', direction='bidir', tag='小明')}\n",
      "results[1]={Link(kind='kw', direction='bidir', tag='清华大学'), Link(kind='kw', direction='bidir', tag='来到'), Link(kind='kw', direction='bidir', tag='北京')}\n"
     ]
    }
   ],
   "source": [
    "from langchain_jieba import JiebaLinkExtractor\n",
    "\n",
    "CONTENT1 = '小明硕士毕业于中国科学院计算所，后在日本京都大学深造'\n",
    "CONTENT2 = '我来到北京清华大学'\n",
    "extractor = JiebaLinkExtractor()\n",
    "results = list(extractor.extract_many([CONTENT1, CONTENT2]))\n",
    "print(f\"results[0]={results[0]}\")\n",
    "print(f\"results[1]={results[1]}\")"
   ]
  }
 ],
 "metadata": {
  "kernelspec": {
   "display_name": "langchain-jieba",
   "language": "python",
   "name": "python3"
  },
  "language_info": {
   "codemirror_mode": {
    "name": "ipython",
    "version": 3
   },
   "file_extension": ".py",
   "mimetype": "text/x-python",
   "name": "python",
   "nbconvert_exporter": "python",
   "pygments_lexer": "ipython3",
   "version": "3.11.11"
  }
 },
 "nbformat": 4,
 "nbformat_minor": 4
}
